{
 "cells": [
  {
   "cell_type": "code",
   "execution_count": 176,
   "metadata": {
    "ExecuteTime": {
     "end_time": "2020-01-22T18:35:32.592815Z",
     "start_time": "2020-01-22T18:35:32.586821Z"
    }
   },
   "outputs": [],
   "source": [
    "import numpy as np\n",
    "import pandas as pd\n",
    "import matplotlib.pyplot as plt\n",
    "import seaborn as sns\n",
    "sns.set(style='whitegrid', rc={'figure.facecolor':'white'})\n",
    "from sklearn.model_selection import train_test_split\n",
    "from sklearn.linear_model import LinearRegression\n",
    "from sklearn.metrics import accuracy_score"
   ]
  },
  {
   "cell_type": "code",
   "execution_count": 177,
   "metadata": {
    "ExecuteTime": {
     "end_time": "2020-01-22T18:35:32.618724Z",
     "start_time": "2020-01-22T18:35:32.614716Z"
    }
   },
   "outputs": [],
   "source": [
    "age = np.random.normal(80,7,1000)\n",
    "age= age.astype(int)\n",
    "# age"
   ]
  },
  {
   "cell_type": "code",
   "execution_count": 178,
   "metadata": {
    "ExecuteTime": {
     "end_time": "2020-01-22T18:35:32.645634Z",
     "start_time": "2020-01-22T18:35:32.641683Z"
    }
   },
   "outputs": [],
   "source": [
    "df=pd.DataFrame({\"age\":age})"
   ]
  },
  {
   "cell_type": "code",
   "execution_count": 179,
   "metadata": {
    "ExecuteTime": {
     "end_time": "2020-01-22T18:35:32.670612Z",
     "start_time": "2020-01-22T18:35:32.666604Z"
    }
   },
   "outputs": [],
   "source": [
    "# df['age'].value_counts()"
   ]
  },
  {
   "cell_type": "markdown",
   "metadata": {},
   "source": [
    "About 3% of people between the ages of 65–74 have dementia, 19% between 75 and 84, and nearly half of those over 85 years of age.[22] In 2013 dementia resulted in about 1.7 million deaths, up from 0.8 million in 1990.[23] As more people are living longer, dementia is becoming more common.[21]"
   ]
  },
  {
   "cell_type": "code",
   "execution_count": 180,
   "metadata": {
    "ExecuteTime": {
     "end_time": "2020-01-22T18:35:32.764343Z",
     "start_time": "2020-01-22T18:35:32.761325Z"
    }
   },
   "outputs": [],
   "source": [
    "# disease_id = [np.random.choice(range(10), p=[0.01,0.1,0.05,0.19,0.3,0.1,0.1,0.05,0.08,0.02]) for i in range(1000)]\n",
    "# disease_id"
   ]
  },
  {
   "cell_type": "code",
   "execution_count": 181,
   "metadata": {
    "ExecuteTime": {
     "end_time": "2020-01-22T18:35:32.795233Z",
     "start_time": "2020-01-22T18:35:32.789282Z"
    }
   },
   "outputs": [],
   "source": [
    "def dementia(record):\n",
    "    if record['age']<74:\n",
    "        label = np.random.choice([1,0], p=[0.03,0.97])\n",
    "    elif 84>record['age']>=75:\n",
    "        label = np.random.choice([1,0], p=[0.19,0.81])\n",
    "    else:\n",
    "        label = np.random.choice([1,0], p=[0.5,0.5])\n",
    "    return label"
   ]
  },
  {
   "cell_type": "code",
   "execution_count": 182,
   "metadata": {
    "ExecuteTime": {
     "end_time": "2020-01-22T18:35:32.877026Z",
     "start_time": "2020-01-22T18:35:32.815200Z"
    }
   },
   "outputs": [],
   "source": [
    "df['has_dementia']=df.apply(dementia,axis=1)"
   ]
  },
  {
   "cell_type": "code",
   "execution_count": 183,
   "metadata": {
    "ExecuteTime": {
     "end_time": "2020-01-22T18:35:32.907942Z",
     "start_time": "2020-01-22T18:35:32.879011Z"
    }
   },
   "outputs": [],
   "source": [
    "gender = [np.random.choice([0,1], p=[0.5,0.5]) for i in range(1000)]\n",
    "df['gender']=gender"
   ]
  },
  {
   "cell_type": "code",
   "execution_count": 184,
   "metadata": {
    "ExecuteTime": {
     "end_time": "2020-01-22T18:35:32.923889Z",
     "start_time": "2020-01-22T18:35:32.910925Z"
    }
   },
   "outputs": [
    {
     "data": {
      "text/html": [
       "<div>\n",
       "<style scoped>\n",
       "    .dataframe tbody tr th:only-of-type {\n",
       "        vertical-align: middle;\n",
       "    }\n",
       "\n",
       "    .dataframe tbody tr th {\n",
       "        vertical-align: top;\n",
       "    }\n",
       "\n",
       "    .dataframe thead th {\n",
       "        text-align: right;\n",
       "    }\n",
       "</style>\n",
       "<table border=\"1\" class=\"dataframe\">\n",
       "  <thead>\n",
       "    <tr style=\"text-align: right;\">\n",
       "      <th></th>\n",
       "      <th>age</th>\n",
       "      <th>has_dementia</th>\n",
       "      <th>gender</th>\n",
       "    </tr>\n",
       "  </thead>\n",
       "  <tbody>\n",
       "    <tr>\n",
       "      <th>0</th>\n",
       "      <td>86</td>\n",
       "      <td>1</td>\n",
       "      <td>0</td>\n",
       "    </tr>\n",
       "    <tr>\n",
       "      <th>1</th>\n",
       "      <td>78</td>\n",
       "      <td>0</td>\n",
       "      <td>0</td>\n",
       "    </tr>\n",
       "    <tr>\n",
       "      <th>2</th>\n",
       "      <td>64</td>\n",
       "      <td>0</td>\n",
       "      <td>1</td>\n",
       "    </tr>\n",
       "    <tr>\n",
       "      <th>3</th>\n",
       "      <td>89</td>\n",
       "      <td>1</td>\n",
       "      <td>1</td>\n",
       "    </tr>\n",
       "    <tr>\n",
       "      <th>4</th>\n",
       "      <td>89</td>\n",
       "      <td>0</td>\n",
       "      <td>1</td>\n",
       "    </tr>\n",
       "    <tr>\n",
       "      <th>...</th>\n",
       "      <td>...</td>\n",
       "      <td>...</td>\n",
       "      <td>...</td>\n",
       "    </tr>\n",
       "    <tr>\n",
       "      <th>995</th>\n",
       "      <td>66</td>\n",
       "      <td>0</td>\n",
       "      <td>1</td>\n",
       "    </tr>\n",
       "    <tr>\n",
       "      <th>996</th>\n",
       "      <td>74</td>\n",
       "      <td>1</td>\n",
       "      <td>1</td>\n",
       "    </tr>\n",
       "    <tr>\n",
       "      <th>997</th>\n",
       "      <td>86</td>\n",
       "      <td>0</td>\n",
       "      <td>0</td>\n",
       "    </tr>\n",
       "    <tr>\n",
       "      <th>998</th>\n",
       "      <td>79</td>\n",
       "      <td>0</td>\n",
       "      <td>0</td>\n",
       "    </tr>\n",
       "    <tr>\n",
       "      <th>999</th>\n",
       "      <td>90</td>\n",
       "      <td>0</td>\n",
       "      <td>1</td>\n",
       "    </tr>\n",
       "  </tbody>\n",
       "</table>\n",
       "<p>1000 rows × 3 columns</p>\n",
       "</div>"
      ],
      "text/plain": [
       "     age  has_dementia  gender\n",
       "0     86             1       0\n",
       "1     78             0       0\n",
       "2     64             0       1\n",
       "3     89             1       1\n",
       "4     89             0       1\n",
       "..   ...           ...     ...\n",
       "995   66             0       1\n",
       "996   74             1       1\n",
       "997   86             0       0\n",
       "998   79             0       0\n",
       "999   90             0       1\n",
       "\n",
       "[1000 rows x 3 columns]"
      ]
     },
     "execution_count": 184,
     "metadata": {},
     "output_type": "execute_result"
    }
   ],
   "source": [
    "df"
   ]
  },
  {
   "cell_type": "code",
   "execution_count": 185,
   "metadata": {
    "ExecuteTime": {
     "end_time": "2020-01-22T18:35:32.932906Z",
     "start_time": "2020-01-22T18:35:32.924920Z"
    }
   },
   "outputs": [],
   "source": [
    "def mobility(record):\n",
    "    if record['age']<70 and record['gender']==1:\n",
    "        label = np.random.choice([1,0], p=[0.125,0.875])\n",
    "    elif record['age']<70 and record['gender']==0:\n",
    "        label = np.random.choice([1,0], p=[0.2,0.8])\n",
    "    elif 80>record['age']>=70 and record['gender']==1:\n",
    "        label = np.random.choice([1,0], p=[0.25,0.75])\n",
    "    elif 80>record['age']>=70 and record['gender']==0:\n",
    "        label = np.random.choice([1,0], p=[0.38,0.62])\n",
    "    elif record['age']>=80 and record['gender']==1:\n",
    "        label = np.random.choice([1,0], p=[0.52,0.48])\n",
    "    else:\n",
    "        label = np.random.choice([1,0], p=[0.7,0.3])\n",
    "    return label"
   ]
  },
  {
   "cell_type": "code",
   "execution_count": 186,
   "metadata": {
    "ExecuteTime": {
     "end_time": "2020-01-22T18:35:33.021648Z",
     "start_time": "2020-01-22T18:35:32.934860Z"
    }
   },
   "outputs": [],
   "source": [
    "df['has_mobility']=df.apply(mobility,axis=1)"
   ]
  },
  {
   "cell_type": "code",
   "execution_count": 187,
   "metadata": {
    "ExecuteTime": {
     "end_time": "2020-01-22T18:35:33.053542Z",
     "start_time": "2020-01-22T18:35:33.023622Z"
    }
   },
   "outputs": [],
   "source": [
    "df['has_family']=[np.random.choice([1,0], p=[0.50,0.50]) for i in range(1000)]"
   ]
  },
  {
   "cell_type": "code",
   "execution_count": 188,
   "metadata": {
    "ExecuteTime": {
     "end_time": "2020-01-22T18:35:33.063515Z",
     "start_time": "2020-01-22T18:35:33.055537Z"
    }
   },
   "outputs": [
    {
     "data": {
      "text/plain": [
       "0    521\n",
       "1    479\n",
       "Name: has_family, dtype: int64"
      ]
     },
     "execution_count": 188,
     "metadata": {},
     "output_type": "execute_result"
    }
   ],
   "source": [
    "df['has_family'].value_counts()"
   ]
  },
  {
   "cell_type": "code",
   "execution_count": 189,
   "metadata": {
    "ExecuteTime": {
     "end_time": "2020-01-22T18:35:33.096427Z",
     "start_time": "2020-01-22T18:35:33.065511Z"
    }
   },
   "outputs": [],
   "source": [
    "df['city']=[np.random.choice(['Tel-Aviv','Jerusalem','Haifa','Rishon-Letzion','Beer Sheva','Eshdod','Petach-Tikva','Natania'], p=[0.19,0.20,0.16,0.1,0.08,0.08,0.1,0.09]) for i in range(1000)]"
   ]
  },
  {
   "cell_type": "code",
   "execution_count": 190,
   "metadata": {
    "ExecuteTime": {
     "end_time": "2020-01-22T18:35:33.107448Z",
     "start_time": "2020-01-22T18:35:33.098422Z"
    }
   },
   "outputs": [],
   "source": [
    "def has_spouse(record):\n",
    "    if record['age']<70 and record['gender']==1:\n",
    "        label = np.random.choice([1,0], p=[0.9,0.1])\n",
    "    elif record['age']<70 and record['gender']==0:\n",
    "        label = np.random.choice([1,0], p=[0.8,0.2])\n",
    "    elif 80>record['age']>=70 and record['gender']==1:\n",
    "        label = np.random.choice([1,0], p=[0.8,0.2])\n",
    "    elif 80>record['age']>=70 and record['gender']==0:\n",
    "        label = np.random.choice([1,0], p=[0.7,0.3])\n",
    "    elif record['age']>=80 and record['gender']==1:\n",
    "        label = np.random.choice([1,0], p=[0.65,0.35])\n",
    "    else:\n",
    "        label = np.random.choice([1,0], p=[0.5,0.5])\n",
    "    return label"
   ]
  },
  {
   "cell_type": "code",
   "execution_count": 191,
   "metadata": {
    "ExecuteTime": {
     "end_time": "2020-01-22T18:35:33.225090Z",
     "start_time": "2020-01-22T18:35:33.110392Z"
    }
   },
   "outputs": [],
   "source": [
    "df['has_spouse']=df.apply(has_spouse,axis=1)"
   ]
  },
  {
   "cell_type": "code",
   "execution_count": 192,
   "metadata": {
    "ExecuteTime": {
     "end_time": "2020-01-22T18:35:33.237051Z",
     "start_time": "2020-01-22T18:35:33.227079Z"
    }
   },
   "outputs": [],
   "source": [
    "def using_mobility_device(record):\n",
    "    if record['age']<70:\n",
    "        label = np.random.choice([1,0], p=[0.08,0.92])\n",
    "    elif 74>record['age']>=70 and record['gender']==0:\n",
    "        label = np.random.choice([1,0], p=[0.09,0.91])\n",
    "    elif 74>record['age']>=70 and record['gender']==1:\n",
    "        label = np.random.choice([1,0], p=[0.08,0.92])\n",
    "    elif 84>record['age']>=75 and record['gender']==0:\n",
    "        label = np.random.choice([1,0], p=[0.19,0.81])  \n",
    "    elif 84>record['age']>=75 and record['gender']==1:\n",
    "        label = np.random.choice([1,0], p=[0.15,0.85]) \n",
    "    elif record['age']>=85 and record['gender']==0:\n",
    "        label = np.random.choice([1,0], p=[0.45,0.55]) \n",
    "    else:\n",
    "        label = np.random.choice([1,0], p=[0.3,0.7]) \n",
    "    return label"
   ]
  },
  {
   "cell_type": "code",
   "execution_count": 193,
   "metadata": {
    "ExecuteTime": {
     "end_time": "2020-01-22T18:35:33.328324Z",
     "start_time": "2020-01-22T18:35:33.239045Z"
    }
   },
   "outputs": [],
   "source": [
    "df['has_mobility_device']=df.apply(using_mobility_device,axis=1)"
   ]
  },
  {
   "cell_type": "code",
   "execution_count": 194,
   "metadata": {
    "ExecuteTime": {
     "end_time": "2020-01-22T18:35:33.334298Z",
     "start_time": "2020-01-22T18:35:33.330309Z"
    }
   },
   "outputs": [],
   "source": [
    "d={'Tel-Aviv':1,'Jerusalem':2,'Haifa':3,'Rishon-Letzion':4,'Beer Sheva':5,'Eshdod':6,'Petach-Tikva':7,'Natania':8}"
   ]
  },
  {
   "cell_type": "code",
   "execution_count": 195,
   "metadata": {
    "ExecuteTime": {
     "end_time": "2020-01-22T18:35:33.342280Z",
     "start_time": "2020-01-22T18:35:33.337290Z"
    }
   },
   "outputs": [],
   "source": [
    "df['city']=df['city'].map(d)"
   ]
  },
  {
   "cell_type": "code",
   "execution_count": 196,
   "metadata": {
    "ExecuteTime": {
     "end_time": "2020-01-22T18:35:33.359231Z",
     "start_time": "2020-01-22T18:35:33.344273Z"
    }
   },
   "outputs": [],
   "source": [
    "df['task']=[np.random.choice(['carry bags','company','housekeeping','pet care','technology','walk']) for i in range(1000)]"
   ]
  },
  {
   "cell_type": "code",
   "execution_count": 197,
   "metadata": {
    "ExecuteTime": {
     "end_time": "2020-01-22T18:35:33.367217Z",
     "start_time": "2020-01-22T18:35:33.361227Z"
    }
   },
   "outputs": [],
   "source": [
    "d={'carry bags':1,'company':2,'housekeeping':3,'pet care':4,'technology':5,'walk':6}"
   ]
  },
  {
   "cell_type": "code",
   "execution_count": 198,
   "metadata": {
    "ExecuteTime": {
     "end_time": "2020-01-22T18:35:33.375346Z",
     "start_time": "2020-01-22T18:35:33.369335Z"
    }
   },
   "outputs": [],
   "source": [
    "df['task']=df['task'].map(d)"
   ]
  },
  {
   "cell_type": "code",
   "execution_count": 199,
   "metadata": {
    "ExecuteTime": {
     "end_time": "2020-01-22T18:35:33.387324Z",
     "start_time": "2020-01-22T18:35:33.377317Z"
    }
   },
   "outputs": [],
   "source": [
    "def duration(record):\n",
    "    if record['task']==1:\n",
    "        label = 30+record['has_dementia']*0.06-record['has_mobility']*0.05-record['has_spouse']*0.02\n",
    "    elif record['task']==2:\n",
    "        label = 60+record['has_dementia']*0.06-record['has_mobility']*0.05-record['has_spouse']*0.02\n",
    "    elif record['task']==3:\n",
    "        label = 120+record['has_dementia']*0.06-record['has_mobility']*0.05-record['has_spouse']*0.02\n",
    "    elif record['task']==4:\n",
    "        label = 30+record['has_dementia']*0.06-record['has_mobility']*0.05-record['has_spouse']*0.02\n",
    "    elif record['task']==5:\n",
    "        label = 100+record['has_dementia']*0.06-record['has_mobility']*0.05-record['has_spouse']*0.02\n",
    "    else:\n",
    "        label = 100+record['has_dementia']*0.06-record['has_mobility']*0.05-record['has_spouse']*0.02\n",
    "    return label\n",
    "        "
   ]
  },
  {
   "cell_type": "code",
   "execution_count": 200,
   "metadata": {
    "ExecuteTime": {
     "end_time": "2020-01-22T18:35:33.474616Z",
     "start_time": "2020-01-22T18:35:33.390280Z"
    }
   },
   "outputs": [],
   "source": [
    "df['duration']=df.apply(duration,axis=1)+np.random.normal(0,5,df.shape[0])"
   ]
  },
  {
   "cell_type": "code",
   "execution_count": 201,
   "metadata": {
    "ExecuteTime": {
     "end_time": "2020-01-22T18:35:33.492578Z",
     "start_time": "2020-01-22T18:35:33.476585Z"
    }
   },
   "outputs": [
    {
     "data": {
      "text/html": [
       "<div>\n",
       "<style scoped>\n",
       "    .dataframe tbody tr th:only-of-type {\n",
       "        vertical-align: middle;\n",
       "    }\n",
       "\n",
       "    .dataframe tbody tr th {\n",
       "        vertical-align: top;\n",
       "    }\n",
       "\n",
       "    .dataframe thead th {\n",
       "        text-align: right;\n",
       "    }\n",
       "</style>\n",
       "<table border=\"1\" class=\"dataframe\">\n",
       "  <thead>\n",
       "    <tr style=\"text-align: right;\">\n",
       "      <th></th>\n",
       "      <th>age</th>\n",
       "      <th>has_dementia</th>\n",
       "      <th>gender</th>\n",
       "      <th>has_mobility</th>\n",
       "      <th>has_family</th>\n",
       "      <th>city</th>\n",
       "      <th>has_spouse</th>\n",
       "      <th>has_mobility_device</th>\n",
       "      <th>task</th>\n",
       "      <th>duration</th>\n",
       "    </tr>\n",
       "  </thead>\n",
       "  <tbody>\n",
       "    <tr>\n",
       "      <th>0</th>\n",
       "      <td>86</td>\n",
       "      <td>1</td>\n",
       "      <td>0</td>\n",
       "      <td>1</td>\n",
       "      <td>1</td>\n",
       "      <td>5</td>\n",
       "      <td>0</td>\n",
       "      <td>0</td>\n",
       "      <td>5</td>\n",
       "      <td>102.025061</td>\n",
       "    </tr>\n",
       "    <tr>\n",
       "      <th>6</th>\n",
       "      <td>78</td>\n",
       "      <td>0</td>\n",
       "      <td>0</td>\n",
       "      <td>0</td>\n",
       "      <td>1</td>\n",
       "      <td>1</td>\n",
       "      <td>1</td>\n",
       "      <td>0</td>\n",
       "      <td>5</td>\n",
       "      <td>97.744420</td>\n",
       "    </tr>\n",
       "    <tr>\n",
       "      <th>8</th>\n",
       "      <td>72</td>\n",
       "      <td>0</td>\n",
       "      <td>0</td>\n",
       "      <td>0</td>\n",
       "      <td>0</td>\n",
       "      <td>2</td>\n",
       "      <td>1</td>\n",
       "      <td>0</td>\n",
       "      <td>5</td>\n",
       "      <td>100.871985</td>\n",
       "    </tr>\n",
       "    <tr>\n",
       "      <th>12</th>\n",
       "      <td>79</td>\n",
       "      <td>0</td>\n",
       "      <td>1</td>\n",
       "      <td>0</td>\n",
       "      <td>1</td>\n",
       "      <td>5</td>\n",
       "      <td>1</td>\n",
       "      <td>0</td>\n",
       "      <td>5</td>\n",
       "      <td>98.751812</td>\n",
       "    </tr>\n",
       "    <tr>\n",
       "      <th>13</th>\n",
       "      <td>85</td>\n",
       "      <td>0</td>\n",
       "      <td>0</td>\n",
       "      <td>1</td>\n",
       "      <td>0</td>\n",
       "      <td>3</td>\n",
       "      <td>1</td>\n",
       "      <td>1</td>\n",
       "      <td>5</td>\n",
       "      <td>105.197525</td>\n",
       "    </tr>\n",
       "    <tr>\n",
       "      <th>...</th>\n",
       "      <td>...</td>\n",
       "      <td>...</td>\n",
       "      <td>...</td>\n",
       "      <td>...</td>\n",
       "      <td>...</td>\n",
       "      <td>...</td>\n",
       "      <td>...</td>\n",
       "      <td>...</td>\n",
       "      <td>...</td>\n",
       "      <td>...</td>\n",
       "    </tr>\n",
       "    <tr>\n",
       "      <th>958</th>\n",
       "      <td>82</td>\n",
       "      <td>0</td>\n",
       "      <td>1</td>\n",
       "      <td>0</td>\n",
       "      <td>1</td>\n",
       "      <td>5</td>\n",
       "      <td>1</td>\n",
       "      <td>0</td>\n",
       "      <td>5</td>\n",
       "      <td>104.075777</td>\n",
       "    </tr>\n",
       "    <tr>\n",
       "      <th>960</th>\n",
       "      <td>82</td>\n",
       "      <td>0</td>\n",
       "      <td>0</td>\n",
       "      <td>1</td>\n",
       "      <td>0</td>\n",
       "      <td>3</td>\n",
       "      <td>1</td>\n",
       "      <td>1</td>\n",
       "      <td>5</td>\n",
       "      <td>92.396043</td>\n",
       "    </tr>\n",
       "    <tr>\n",
       "      <th>970</th>\n",
       "      <td>86</td>\n",
       "      <td>0</td>\n",
       "      <td>0</td>\n",
       "      <td>0</td>\n",
       "      <td>0</td>\n",
       "      <td>7</td>\n",
       "      <td>1</td>\n",
       "      <td>1</td>\n",
       "      <td>5</td>\n",
       "      <td>107.295530</td>\n",
       "    </tr>\n",
       "    <tr>\n",
       "      <th>985</th>\n",
       "      <td>81</td>\n",
       "      <td>0</td>\n",
       "      <td>0</td>\n",
       "      <td>1</td>\n",
       "      <td>0</td>\n",
       "      <td>2</td>\n",
       "      <td>0</td>\n",
       "      <td>0</td>\n",
       "      <td>5</td>\n",
       "      <td>95.729920</td>\n",
       "    </tr>\n",
       "    <tr>\n",
       "      <th>993</th>\n",
       "      <td>80</td>\n",
       "      <td>1</td>\n",
       "      <td>1</td>\n",
       "      <td>0</td>\n",
       "      <td>0</td>\n",
       "      <td>2</td>\n",
       "      <td>1</td>\n",
       "      <td>0</td>\n",
       "      <td>5</td>\n",
       "      <td>104.634088</td>\n",
       "    </tr>\n",
       "  </tbody>\n",
       "</table>\n",
       "<p>158 rows × 10 columns</p>\n",
       "</div>"
      ],
      "text/plain": [
       "     age  has_dementia  gender  has_mobility  has_family  city  has_spouse  \\\n",
       "0     86             1       0             1           1     5           0   \n",
       "6     78             0       0             0           1     1           1   \n",
       "8     72             0       0             0           0     2           1   \n",
       "12    79             0       1             0           1     5           1   \n",
       "13    85             0       0             1           0     3           1   \n",
       "..   ...           ...     ...           ...         ...   ...         ...   \n",
       "958   82             0       1             0           1     5           1   \n",
       "960   82             0       0             1           0     3           1   \n",
       "970   86             0       0             0           0     7           1   \n",
       "985   81             0       0             1           0     2           0   \n",
       "993   80             1       1             0           0     2           1   \n",
       "\n",
       "     has_mobility_device  task    duration  \n",
       "0                      0     5  102.025061  \n",
       "6                      0     5   97.744420  \n",
       "8                      0     5  100.871985  \n",
       "12                     0     5   98.751812  \n",
       "13                     1     5  105.197525  \n",
       "..                   ...   ...         ...  \n",
       "958                    0     5  104.075777  \n",
       "960                    1     5   92.396043  \n",
       "970                    1     5  107.295530  \n",
       "985                    0     5   95.729920  \n",
       "993                    0     5  104.634088  \n",
       "\n",
       "[158 rows x 10 columns]"
      ]
     },
     "execution_count": 201,
     "metadata": {},
     "output_type": "execute_result"
    }
   ],
   "source": [
    "df[df['task']==5]"
   ]
  },
  {
   "cell_type": "code",
   "execution_count": 202,
   "metadata": {
    "ExecuteTime": {
     "end_time": "2020-01-22T18:35:33.503512Z",
     "start_time": "2020-01-22T18:35:33.495536Z"
    }
   },
   "outputs": [],
   "source": [
    "df['city']=df['city'].map({1:'Tel-Aviv',2:'Jerusalem',3:'Haifa',4:'Rishon-Letzion',5:'Beer Sheva',6:'Eshdod',7:'Petach-Tikva',8:'Natania'})\n",
    "df['task'] = df['task'].map({1:'carry bags',2:'company',3:'housekeeping',4:'pet care',5:'technology',6:'walk'})"
   ]
  },
  {
   "cell_type": "code",
   "execution_count": 203,
   "metadata": {
    "ExecuteTime": {
     "end_time": "2020-01-22T18:35:33.524495Z",
     "start_time": "2020-01-22T18:35:33.505508Z"
    }
   },
   "outputs": [
    {
     "data": {
      "text/html": [
       "<div>\n",
       "<style scoped>\n",
       "    .dataframe tbody tr th:only-of-type {\n",
       "        vertical-align: middle;\n",
       "    }\n",
       "\n",
       "    .dataframe tbody tr th {\n",
       "        vertical-align: top;\n",
       "    }\n",
       "\n",
       "    .dataframe thead th {\n",
       "        text-align: right;\n",
       "    }\n",
       "</style>\n",
       "<table border=\"1\" class=\"dataframe\">\n",
       "  <thead>\n",
       "    <tr style=\"text-align: right;\">\n",
       "      <th></th>\n",
       "      <th>age</th>\n",
       "      <th>has_dementia</th>\n",
       "      <th>gender</th>\n",
       "      <th>has_mobility</th>\n",
       "      <th>has_family</th>\n",
       "      <th>city</th>\n",
       "      <th>has_spouse</th>\n",
       "      <th>has_mobility_device</th>\n",
       "      <th>task</th>\n",
       "      <th>duration</th>\n",
       "    </tr>\n",
       "  </thead>\n",
       "  <tbody>\n",
       "    <tr>\n",
       "      <th>0</th>\n",
       "      <td>86</td>\n",
       "      <td>1</td>\n",
       "      <td>0</td>\n",
       "      <td>1</td>\n",
       "      <td>1</td>\n",
       "      <td>5</td>\n",
       "      <td>0</td>\n",
       "      <td>0</td>\n",
       "      <td>5</td>\n",
       "      <td>102.025061</td>\n",
       "    </tr>\n",
       "    <tr>\n",
       "      <th>1</th>\n",
       "      <td>78</td>\n",
       "      <td>0</td>\n",
       "      <td>0</td>\n",
       "      <td>0</td>\n",
       "      <td>0</td>\n",
       "      <td>1</td>\n",
       "      <td>1</td>\n",
       "      <td>0</td>\n",
       "      <td>3</td>\n",
       "      <td>129.194626</td>\n",
       "    </tr>\n",
       "    <tr>\n",
       "      <th>2</th>\n",
       "      <td>64</td>\n",
       "      <td>0</td>\n",
       "      <td>1</td>\n",
       "      <td>0</td>\n",
       "      <td>0</td>\n",
       "      <td>7</td>\n",
       "      <td>1</td>\n",
       "      <td>1</td>\n",
       "      <td>4</td>\n",
       "      <td>36.985072</td>\n",
       "    </tr>\n",
       "    <tr>\n",
       "      <th>3</th>\n",
       "      <td>89</td>\n",
       "      <td>1</td>\n",
       "      <td>1</td>\n",
       "      <td>0</td>\n",
       "      <td>1</td>\n",
       "      <td>8</td>\n",
       "      <td>1</td>\n",
       "      <td>0</td>\n",
       "      <td>1</td>\n",
       "      <td>24.798834</td>\n",
       "    </tr>\n",
       "    <tr>\n",
       "      <th>4</th>\n",
       "      <td>89</td>\n",
       "      <td>0</td>\n",
       "      <td>1</td>\n",
       "      <td>0</td>\n",
       "      <td>0</td>\n",
       "      <td>7</td>\n",
       "      <td>0</td>\n",
       "      <td>0</td>\n",
       "      <td>6</td>\n",
       "      <td>92.812001</td>\n",
       "    </tr>\n",
       "    <tr>\n",
       "      <th>...</th>\n",
       "      <td>...</td>\n",
       "      <td>...</td>\n",
       "      <td>...</td>\n",
       "      <td>...</td>\n",
       "      <td>...</td>\n",
       "      <td>...</td>\n",
       "      <td>...</td>\n",
       "      <td>...</td>\n",
       "      <td>...</td>\n",
       "      <td>...</td>\n",
       "    </tr>\n",
       "    <tr>\n",
       "      <th>995</th>\n",
       "      <td>66</td>\n",
       "      <td>0</td>\n",
       "      <td>1</td>\n",
       "      <td>0</td>\n",
       "      <td>1</td>\n",
       "      <td>3</td>\n",
       "      <td>1</td>\n",
       "      <td>0</td>\n",
       "      <td>2</td>\n",
       "      <td>71.783232</td>\n",
       "    </tr>\n",
       "    <tr>\n",
       "      <th>996</th>\n",
       "      <td>74</td>\n",
       "      <td>1</td>\n",
       "      <td>1</td>\n",
       "      <td>0</td>\n",
       "      <td>1</td>\n",
       "      <td>3</td>\n",
       "      <td>1</td>\n",
       "      <td>0</td>\n",
       "      <td>4</td>\n",
       "      <td>30.923900</td>\n",
       "    </tr>\n",
       "    <tr>\n",
       "      <th>997</th>\n",
       "      <td>86</td>\n",
       "      <td>0</td>\n",
       "      <td>0</td>\n",
       "      <td>1</td>\n",
       "      <td>0</td>\n",
       "      <td>6</td>\n",
       "      <td>1</td>\n",
       "      <td>1</td>\n",
       "      <td>2</td>\n",
       "      <td>59.543150</td>\n",
       "    </tr>\n",
       "    <tr>\n",
       "      <th>998</th>\n",
       "      <td>79</td>\n",
       "      <td>0</td>\n",
       "      <td>0</td>\n",
       "      <td>1</td>\n",
       "      <td>1</td>\n",
       "      <td>2</td>\n",
       "      <td>0</td>\n",
       "      <td>1</td>\n",
       "      <td>4</td>\n",
       "      <td>32.902922</td>\n",
       "    </tr>\n",
       "    <tr>\n",
       "      <th>999</th>\n",
       "      <td>90</td>\n",
       "      <td>0</td>\n",
       "      <td>1</td>\n",
       "      <td>0</td>\n",
       "      <td>1</td>\n",
       "      <td>3</td>\n",
       "      <td>1</td>\n",
       "      <td>0</td>\n",
       "      <td>1</td>\n",
       "      <td>30.745834</td>\n",
       "    </tr>\n",
       "  </tbody>\n",
       "</table>\n",
       "<p>1000 rows × 10 columns</p>\n",
       "</div>"
      ],
      "text/plain": [
       "     age  has_dementia  gender  has_mobility  has_family  city  has_spouse  \\\n",
       "0     86             1       0             1           1     5           0   \n",
       "1     78             0       0             0           0     1           1   \n",
       "2     64             0       1             0           0     7           1   \n",
       "3     89             1       1             0           1     8           1   \n",
       "4     89             0       1             0           0     7           0   \n",
       "..   ...           ...     ...           ...         ...   ...         ...   \n",
       "995   66             0       1             0           1     3           1   \n",
       "996   74             1       1             0           1     3           1   \n",
       "997   86             0       0             1           0     6           1   \n",
       "998   79             0       0             1           1     2           0   \n",
       "999   90             0       1             0           1     3           1   \n",
       "\n",
       "     has_mobility_device  task    duration  \n",
       "0                      0     5  102.025061  \n",
       "1                      0     3  129.194626  \n",
       "2                      1     4   36.985072  \n",
       "3                      0     1   24.798834  \n",
       "4                      0     6   92.812001  \n",
       "..                   ...   ...         ...  \n",
       "995                    0     2   71.783232  \n",
       "996                    0     4   30.923900  \n",
       "997                    1     2   59.543150  \n",
       "998                    1     4   32.902922  \n",
       "999                    0     1   30.745834  \n",
       "\n",
       "[1000 rows x 10 columns]"
      ]
     },
     "execution_count": 203,
     "metadata": {},
     "output_type": "execute_result"
    }
   ],
   "source": [
    "df"
   ]
  },
  {
   "cell_type": "code",
   "execution_count": 204,
   "metadata": {
    "ExecuteTime": {
     "end_time": "2020-01-22T18:35:33.539417Z",
     "start_time": "2020-01-22T18:35:33.526453Z"
    }
   },
   "outputs": [
    {
     "name": "stdout",
     "output_type": "stream",
     "text": [
      "<class 'pandas.core.frame.DataFrame'>\n",
      "RangeIndex: 1000 entries, 0 to 999\n",
      "Data columns (total 10 columns):\n",
      "age                    1000 non-null int32\n",
      "has_dementia           1000 non-null int64\n",
      "gender                 1000 non-null int64\n",
      "has_mobility           1000 non-null int64\n",
      "has_family             1000 non-null int64\n",
      "city                   1000 non-null category\n",
      "has_spouse             1000 non-null int64\n",
      "has_mobility_device    1000 non-null int64\n",
      "task                   1000 non-null category\n",
      "duration               1000 non-null float64\n",
      "dtypes: category(2), float64(1), int32(1), int64(6)\n",
      "memory usage: 61.2 KB\n"
     ]
    }
   ],
   "source": [
    "df['city']=df.city.astype('category')\n",
    "df['task']=df.task.astype('category')\n",
    "df=pd.get_dummies(df)\n",
    "df.info()"
   ]
  },
  {
   "cell_type": "code",
   "execution_count": 205,
   "metadata": {
    "ExecuteTime": {
     "end_time": "2020-01-22T18:35:34.076677Z",
     "start_time": "2020-01-22T18:35:33.541413Z"
    }
   },
   "outputs": [
    {
     "data": {
      "text/plain": [
       "<matplotlib.axes._subplots.AxesSubplot at 0x2ae294dd748>"
      ]
     },
     "execution_count": 205,
     "metadata": {},
     "output_type": "execute_result"
    },
    {
     "data": {
      "image/png": "[encoded data removed]",
      "text/plain": [
       "<Figure size 576x720 with 2 Axes>"
      ]
     },
     "metadata": {},
     "output_type": "display_data"
    }
   ],
   "source": [
    "plt.figure(figsize= (8,10))\n",
    "sns.heatmap(df.corr(), annot=True)"
   ]
  },
  {
   "cell_type": "code",
   "execution_count": 206,
   "metadata": {
    "ExecuteTime": {
     "end_time": "2020-01-22T18:35:34.090638Z",
     "start_time": "2020-01-22T18:35:34.079668Z"
    }
   },
   "outputs": [],
   "source": [
    "X = df.drop('duration', axis=1)\n",
    "y=df['duration']\n",
    "\n",
    "X_train, X_test, y_train, y_test = train_test_split(X, y, train_size=0.8)"
   ]
  },
  {
   "cell_type": "code",
   "execution_count": 207,
   "metadata": {
    "ExecuteTime": {
     "end_time": "2020-01-22T18:35:34.106596Z",
     "start_time": "2020-01-22T18:35:34.093631Z"
    }
   },
   "outputs": [],
   "source": [
    "logreg = LinearRegression()\n",
    "\n",
    "logreg.fit(X_train, y_train)\n",
    "y_prob = logreg.predict(X_test)"
   ]
  },
  {
   "cell_type": "code",
   "execution_count": 208,
   "metadata": {
    "ExecuteTime": {
     "end_time": "2020-01-22T18:35:34.119562Z",
     "start_time": "2020-01-22T18:35:34.109589Z"
    }
   },
   "outputs": [
    {
     "data": {
      "text/plain": [
       "0.16168016320498546"
      ]
     },
     "execution_count": 208,
     "metadata": {},
     "output_type": "execute_result"
    }
   ],
   "source": [
    "logreg.score(X_test, y_test)"
   ]
  },
  {
   "cell_type": "code",
   "execution_count": null,
   "metadata": {},
   "outputs": [],
   "source": []
  },
  {
   "cell_type": "code",
   "execution_count": null,
   "metadata": {},
   "outputs": [],
   "source": []
  }
 ],
 "metadata": {
  "kernelspec": {
   "display_name": "Python 3",
   "language": "python",
   "name": "python3"
  },
  "language_info": {
   "codemirror_mode": {
    "name": "ipython",
    "version": 3
   },
   "file_extension": ".py",
   "mimetype": "text/x-python",
   "name": "python",
   "nbconvert_exporter": "python",
   "pygments_lexer": "ipython3",
   "version": "3.6.9"
  },
  "latex_envs": {
   "LaTeX_envs_menu_present": true,
   "autoclose": false,
   "autocomplete": true,
   "bibliofile": "biblio.bib",
   "cite_by": "apalike",
   "current_citInitial": 1,
   "eqLabelWithNumbers": true,
   "eqNumInitial": 1,
   "hotkeys": {
    "equation": "Ctrl-E",
    "itemize": "Ctrl-I"
   },
   "labels_anchors": false,
   "latex_user_defs": false,
   "report_style_numbering": false,
   "user_envs_cfg": false
  },
  "nbTranslate": {
   "displayLangs": [
    "*"
   ],
   "hotkey": "alt-t",
   "langInMainMenu": true,
   "sourceLang": "en",
   "targetLang": "fr",
   "useGoogleTranslate": true
  },
  "toc": {
   "base_numbering": 1,
   "nav_menu": {},
   "number_sections": true,
   "sideBar": true,
   "skip_h1_title": false,
   "title_cell": "Table of Contents",
   "title_sidebar": "Contents",
   "toc_cell": false,
   "toc_position": {},
   "toc_section_display": true,
   "toc_window_display": false
  }
 },
 "nbformat": 4,
 "nbformat_minor": 2
}
