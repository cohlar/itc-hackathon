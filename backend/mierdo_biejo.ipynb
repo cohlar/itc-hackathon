{
 "cells": [
  {
   "cell_type": "code",
   "execution_count": 1,
   "metadata": {
    "ExecuteTime": {
     "end_time": "2020-01-22T17:43:06.568688Z",
     "start_time": "2020-01-22T17:43:05.390405Z"
    }
   },
   "outputs": [],
   "source": [
    "import numpy as np\n",
    "import pandas as pd\n",
    "import matplotlib.pyplot as plt\n",
    "import seaborn as sns\n",
    "sns.set(style='whitegrid', rc={'figure.facecolor':'white'})"
   ]
  },
  {
   "cell_type": "code",
   "execution_count": 2,
   "metadata": {
    "ExecuteTime": {
     "end_time": "2020-01-22T17:43:06.575348Z",
     "start_time": "2020-01-22T17:43:06.570362Z"
    }
   },
   "outputs": [],
   "source": [
    "age = np.random.normal(80,7,1000)\n",
    "age= age.astype(int)\n",
    "# age"
   ]
  },
  {
   "cell_type": "code",
   "execution_count": 3,
   "metadata": {
    "ExecuteTime": {
     "end_time": "2020-01-22T17:43:06.583347Z",
     "start_time": "2020-01-22T17:43:06.578341Z"
    }
   },
   "outputs": [],
   "source": [
    "df=pd.DataFrame({\"age\":age})"
   ]
  },
  {
   "cell_type": "code",
   "execution_count": 4,
   "metadata": {
    "ExecuteTime": {
     "end_time": "2020-01-22T17:43:06.590309Z",
     "start_time": "2020-01-22T17:43:06.586320Z"
    }
   },
   "outputs": [],
   "source": [
    "# df['age'].value_counts()"
   ]
  },
  {
   "cell_type": "markdown",
   "metadata": {},
   "source": [
    "About 3% of people between the ages of 65–74 have dementia, 19% between 75 and 84, and nearly half of those over 85 years of age.[22] In 2013 dementia resulted in about 1.7 million deaths, up from 0.8 million in 1990.[23] As more people are living longer, dementia is becoming more common.[21]"
   ]
  },
  {
   "cell_type": "code",
   "execution_count": 5,
   "metadata": {
    "ExecuteTime": {
     "end_time": "2020-01-22T17:43:06.597292Z",
     "start_time": "2020-01-22T17:43:06.594297Z"
    }
   },
   "outputs": [],
   "source": [
    "# disease_id = [np.random.choice(range(10), p=[0.01,0.1,0.05,0.19,0.3,0.1,0.1,0.05,0.08,0.02]) for i in range(1000)]\n",
    "# disease_id"
   ]
  },
  {
   "cell_type": "code",
   "execution_count": 6,
   "metadata": {
    "ExecuteTime": {
     "end_time": "2020-01-22T17:43:06.606265Z",
     "start_time": "2020-01-22T17:43:06.600293Z"
    }
   },
   "outputs": [],
   "source": [
    "def dementia(record):\n",
    "    if record['age']<74:\n",
    "        label = np.random.choice([1,0], p=[0.03,0.97])\n",
    "    elif 84>record['age']>=75:\n",
    "        label = np.random.choice([1,0], p=[0.19,0.81])\n",
    "    else:\n",
    "        label = np.random.choice([1,0], p=[0.5,0.5])\n",
    "    return label"
   ]
  },
  {
   "cell_type": "code",
   "execution_count": 7,
   "metadata": {
    "ExecuteTime": {
     "end_time": "2020-01-22T17:43:06.677079Z",
     "start_time": "2020-01-22T17:43:06.608260Z"
    }
   },
   "outputs": [],
   "source": [
    "df['has_dementia']=df.apply(dementia,axis=1)"
   ]
  },
  {
   "cell_type": "code",
   "execution_count": 8,
   "metadata": {
    "ExecuteTime": {
     "end_time": "2020-01-22T17:43:06.712251Z",
     "start_time": "2020-01-22T17:43:06.680068Z"
    }
   },
   "outputs": [],
   "source": [
    "gender = [np.random.choice([0,1], p=[0.5,0.5]) for i in range(1000)]\n",
    "df['gender']=gender"
   ]
  },
  {
   "cell_type": "code",
   "execution_count": 9,
   "metadata": {
    "ExecuteTime": {
     "end_time": "2020-01-22T17:43:06.732966Z",
     "start_time": "2020-01-22T17:43:06.714976Z"
    }
   },
   "outputs": [
    {
     "data": {
      "text/html": [
       "<div>\n",
       "<style scoped>\n",
       "    .dataframe tbody tr th:only-of-type {\n",
       "        vertical-align: middle;\n",
       "    }\n",
       "\n",
       "    .dataframe tbody tr th {\n",
       "        vertical-align: top;\n",
       "    }\n",
       "\n",
       "    .dataframe thead th {\n",
       "        text-align: right;\n",
       "    }\n",
       "</style>\n",
       "<table border=\"1\" class=\"dataframe\">\n",
       "  <thead>\n",
       "    <tr style=\"text-align: right;\">\n",
       "      <th></th>\n",
       "      <th>age</th>\n",
       "      <th>has_dementia</th>\n",
       "      <th>gender</th>\n",
       "    </tr>\n",
       "  </thead>\n",
       "  <tbody>\n",
       "    <tr>\n",
       "      <th>0</th>\n",
       "      <td>84</td>\n",
       "      <td>1</td>\n",
       "      <td>0</td>\n",
       "    </tr>\n",
       "    <tr>\n",
       "      <th>1</th>\n",
       "      <td>73</td>\n",
       "      <td>0</td>\n",
       "      <td>1</td>\n",
       "    </tr>\n",
       "    <tr>\n",
       "      <th>2</th>\n",
       "      <td>82</td>\n",
       "      <td>1</td>\n",
       "      <td>1</td>\n",
       "    </tr>\n",
       "    <tr>\n",
       "      <th>3</th>\n",
       "      <td>84</td>\n",
       "      <td>1</td>\n",
       "      <td>0</td>\n",
       "    </tr>\n",
       "    <tr>\n",
       "      <th>4</th>\n",
       "      <td>81</td>\n",
       "      <td>0</td>\n",
       "      <td>1</td>\n",
       "    </tr>\n",
       "    <tr>\n",
       "      <th>...</th>\n",
       "      <td>...</td>\n",
       "      <td>...</td>\n",
       "      <td>...</td>\n",
       "    </tr>\n",
       "    <tr>\n",
       "      <th>995</th>\n",
       "      <td>87</td>\n",
       "      <td>1</td>\n",
       "      <td>0</td>\n",
       "    </tr>\n",
       "    <tr>\n",
       "      <th>996</th>\n",
       "      <td>80</td>\n",
       "      <td>0</td>\n",
       "      <td>1</td>\n",
       "    </tr>\n",
       "    <tr>\n",
       "      <th>997</th>\n",
       "      <td>86</td>\n",
       "      <td>0</td>\n",
       "      <td>0</td>\n",
       "    </tr>\n",
       "    <tr>\n",
       "      <th>998</th>\n",
       "      <td>79</td>\n",
       "      <td>0</td>\n",
       "      <td>1</td>\n",
       "    </tr>\n",
       "    <tr>\n",
       "      <th>999</th>\n",
       "      <td>80</td>\n",
       "      <td>0</td>\n",
       "      <td>0</td>\n",
       "    </tr>\n",
       "  </tbody>\n",
       "</table>\n",
       "<p>1000 rows × 3 columns</p>\n",
       "</div>"
      ],
      "text/plain": [
       "     age  has_dementia  gender\n",
       "0     84             1       0\n",
       "1     73             0       1\n",
       "2     82             1       1\n",
       "3     84             1       0\n",
       "4     81             0       1\n",
       "..   ...           ...     ...\n",
       "995   87             1       0\n",
       "996   80             0       1\n",
       "997   86             0       0\n",
       "998   79             0       1\n",
       "999   80             0       0\n",
       "\n",
       "[1000 rows x 3 columns]"
      ]
     },
     "execution_count": 9,
     "metadata": {},
     "output_type": "execute_result"
    }
   ],
   "source": [
    "df"
   ]
  },
  {
   "cell_type": "code",
   "execution_count": 10,
   "metadata": {
    "ExecuteTime": {
     "end_time": "2020-01-22T17:43:06.741930Z",
     "start_time": "2020-01-22T17:43:06.734921Z"
    }
   },
   "outputs": [],
   "source": [
    "def mobility(record):\n",
    "    if record['age']<70 and record['gender']==1:\n",
    "        label = np.random.choice([1,0], p=[0.125,0.875])\n",
    "    elif record['age']<70 and record['gender']==0:\n",
    "        label = np.random.choice([1,0], p=[0.2,0.8])\n",
    "    elif 80>record['age']>=70 and record['gender']==1:\n",
    "        label = np.random.choice([1,0], p=[0.25,0.75])\n",
    "    elif 80>record['age']>=70 and record['gender']==0:\n",
    "        label = np.random.choice([1,0], p=[0.38,0.62])\n",
    "    elif record['age']>=80 and record['gender']==1:\n",
    "        label = np.random.choice([1,0], p=[0.52,0.48])\n",
    "    else:\n",
    "        label = np.random.choice([1,0], p=[0.7,0.3])\n",
    "    return label"
   ]
  },
  {
   "cell_type": "code",
   "execution_count": 11,
   "metadata": {
    "ExecuteTime": {
     "end_time": "2020-01-22T17:43:06.840672Z",
     "start_time": "2020-01-22T17:43:06.743916Z"
    }
   },
   "outputs": [],
   "source": [
    "df['has_mobility']=df.apply(mobility,axis=1)"
   ]
  },
  {
   "cell_type": "code",
   "execution_count": 12,
   "metadata": {
    "ExecuteTime": {
     "end_time": "2020-01-22T17:43:06.875559Z",
     "start_time": "2020-01-22T17:43:06.842634Z"
    }
   },
   "outputs": [],
   "source": [
    "df['has_family']=[np.random.choice([1,0], p=[0.50,0.50]) for i in range(1000)]"
   ]
  },
  {
   "cell_type": "code",
   "execution_count": 13,
   "metadata": {
    "ExecuteTime": {
     "end_time": "2020-01-22T17:43:06.885518Z",
     "start_time": "2020-01-22T17:43:06.877539Z"
    }
   },
   "outputs": [
    {
     "data": {
      "text/plain": [
       "0    508\n",
       "1    492\n",
       "Name: has_family, dtype: int64"
      ]
     },
     "execution_count": 13,
     "metadata": {},
     "output_type": "execute_result"
    }
   ],
   "source": [
    "df['has_family'].value_counts()"
   ]
  },
  {
   "cell_type": "code",
   "execution_count": 14,
   "metadata": {
    "ExecuteTime": {
     "end_time": "2020-01-22T17:43:06.922446Z",
     "start_time": "2020-01-22T17:43:06.887513Z"
    }
   },
   "outputs": [],
   "source": [
    "df['city']=[np.random.choice(['Tel-Aviv','Jerusalem','Haifa','Rishon-Letzion','Beer Sheva','Eshdod','Petach-Tikva','Natania'], p=[0.19,0.20,0.16,0.1,0.08,0.08,0.1,0.09]) for i in range(1000)]"
   ]
  },
  {
   "cell_type": "code",
   "execution_count": 15,
   "metadata": {
    "ExecuteTime": {
     "end_time": "2020-01-22T17:43:06.932399Z",
     "start_time": "2020-01-22T17:43:06.924414Z"
    }
   },
   "outputs": [],
   "source": [
    "def has_spouse(record):\n",
    "    if record['age']<70 and record['gender']==1:\n",
    "        label = np.random.choice([1,0], p=[0.9,0.1])\n",
    "    elif record['age']<70 and record['gender']==0:\n",
    "        label = np.random.choice([1,0], p=[0.8,0.2])\n",
    "    elif 80>record['age']>=70 and record['gender']==1:\n",
    "        label = np.random.choice([1,0], p=[0.8,0.2])\n",
    "    elif 80>record['age']>=70 and record['gender']==0:\n",
    "        label = np.random.choice([1,0], p=[0.7,0.3])\n",
    "    elif record['age']>=80 and record['gender']==1:\n",
    "        label = np.random.choice([1,0], p=[0.65,0.35])\n",
    "    else:\n",
    "        label = np.random.choice([1,0], p=[0.5,0.5])\n",
    "    return label"
   ]
  },
  {
   "cell_type": "code",
   "execution_count": 16,
   "metadata": {
    "ExecuteTime": {
     "end_time": "2020-01-22T17:43:07.022205Z",
     "start_time": "2020-01-22T17:43:06.934388Z"
    }
   },
   "outputs": [],
   "source": [
    "df['has_spouse']=df.apply(has_spouse,axis=1)"
   ]
  },
  {
   "cell_type": "code",
   "execution_count": 17,
   "metadata": {
    "ExecuteTime": {
     "end_time": "2020-01-22T17:43:07.033124Z",
     "start_time": "2020-01-22T17:43:07.024147Z"
    }
   },
   "outputs": [],
   "source": [
    "def using_mobility_device(record):\n",
    "    if record['age']<70:\n",
    "        label = np.random.choice([1,0], p=[0.08,0.92])\n",
    "    elif 74>record['age']>=70 and record['gender']==0:\n",
    "        label = np.random.choice([1,0], p=[0.09,0.91])\n",
    "    elif 74>record['age']>=70 and record['gender']==1:\n",
    "        label = np.random.choice([1,0], p=[0.08,0.92])\n",
    "    elif 84>record['age']>=75 and record['gender']==0:\n",
    "        label = np.random.choice([1,0], p=[0.19,0.81])  \n",
    "    elif 84>record['age']>=75 and record['gender']==1:\n",
    "        label = np.random.choice([1,0], p=[0.15,0.85]) \n",
    "    elif record['age']>=85 and record['gender']==0:\n",
    "        label = np.random.choice([1,0], p=[0.45,0.55]) \n",
    "    else:\n",
    "        label = np.random.choice([1,0], p=[0.3,0.7]) \n",
    "    return label"
   ]
  },
  {
   "cell_type": "code",
   "execution_count": 18,
   "metadata": {
    "ExecuteTime": {
     "end_time": "2020-01-22T17:43:07.121935Z",
     "start_time": "2020-01-22T17:43:07.035117Z"
    }
   },
   "outputs": [],
   "source": [
    "df['has_mobility_device']=df.apply(using_mobility_device,axis=1)"
   ]
  },
  {
   "cell_type": "code",
   "execution_count": 19,
   "metadata": {
    "ExecuteTime": {
     "end_time": "2020-01-22T17:43:07.128868Z",
     "start_time": "2020-01-22T17:43:07.123880Z"
    }
   },
   "outputs": [],
   "source": [
    "d={'Tel-Aviv':1,'Jerusalem':2,'Haifa':3,'Rishon-Letzion':4,'Beer Sheva':5,'Eshdod':6,'Petach-Tikva':7,'Natania':8}"
   ]
  },
  {
   "cell_type": "code",
   "execution_count": 20,
   "metadata": {
    "ExecuteTime": {
     "end_time": "2020-01-22T17:43:07.136846Z",
     "start_time": "2020-01-22T17:43:07.130877Z"
    }
   },
   "outputs": [],
   "source": [
    "df['city']=df['city'].map(d)"
   ]
  },
  {
   "cell_type": "code",
   "execution_count": 21,
   "metadata": {
    "ExecuteTime": {
     "end_time": "2020-01-22T17:43:07.155832Z",
     "start_time": "2020-01-22T17:43:07.138841Z"
    }
   },
   "outputs": [],
   "source": [
    "df['task']=[np.random.choice(['carry bags','company','housekeeping','pet care','technology','walk']) for i in range(1000)]"
   ]
  },
  {
   "cell_type": "code",
   "execution_count": 22,
   "metadata": {
    "ExecuteTime": {
     "end_time": "2020-01-22T17:43:07.160795Z",
     "start_time": "2020-01-22T17:43:07.157789Z"
    }
   },
   "outputs": [],
   "source": [
    "d={'carry bags':1,'company':2,'housekeeping':3,'pet care':4,'technology':5,'walk':6}"
   ]
  },
  {
   "cell_type": "code",
   "execution_count": 23,
   "metadata": {
    "ExecuteTime": {
     "end_time": "2020-01-22T17:43:07.170756Z",
     "start_time": "2020-01-22T17:43:07.164773Z"
    }
   },
   "outputs": [],
   "source": [
    "df['task']=df['task'].map(d)"
   ]
  },
  {
   "cell_type": "code",
   "execution_count": 24,
   "metadata": {
    "ExecuteTime": {
     "end_time": "2020-01-22T17:43:07.180729Z",
     "start_time": "2020-01-22T17:43:07.173749Z"
    }
   },
   "outputs": [],
   "source": [
    "def duration(record):\n",
    "    if record['task']==1:\n",
    "        label = 30+record['has_dementia']*0.06-record['has_mobility']*0.05+record['has_spouse']*\n",
    "    elif record['task']==2:\n",
    "        label = np.random.choice(60,20,1)[0]\n",
    "    elif record['task']==3:\n",
    "        label = np.random.choice(120,30,1)[0]\n",
    "    elif record['task']==4:\n",
    "        label = np.random.choice(30,20,1)[0]\n",
    "    elif record['task']==5:\n",
    "        label = np.random.choice(100,20,1)[0]\n",
    "    else:\n",
    "        label = np.random.choice(100,30,1)[0]\n",
    "    return label\n",
    "        "
   ]
  },
  {
   "cell_type": "code",
   "execution_count": 25,
   "metadata": {
    "ExecuteTime": {
     "end_time": "2020-01-22T17:43:07.340445Z",
     "start_time": "2020-01-22T17:43:07.182724Z"
    }
   },
   "outputs": [
    {
     "ename": "IndexError",
     "evalue": "('index 0 is out of bounds for axis 0 with size 0', 'occurred at index 0')",
     "output_type": "error",
     "traceback": [
      "\u001b[1;31m---------------------------------------------------------------------------\u001b[0m",
      "\u001b[1;31mIndexError\u001b[0m                                Traceback (most recent call last)",
      "\u001b[1;32m<ipython-input-25-bab048f72fa0>\u001b[0m in \u001b[0;36m<module>\u001b[1;34m\u001b[0m\n\u001b[1;32m----> 1\u001b[1;33m \u001b[0mdf\u001b[0m\u001b[1;33m[\u001b[0m\u001b[1;34m'duration'\u001b[0m\u001b[1;33m]\u001b[0m\u001b[1;33m=\u001b[0m\u001b[0mdf\u001b[0m\u001b[1;33m.\u001b[0m\u001b[0mapply\u001b[0m\u001b[1;33m(\u001b[0m\u001b[0mduration\u001b[0m\u001b[1;33m,\u001b[0m\u001b[0maxis\u001b[0m\u001b[1;33m=\u001b[0m\u001b[1;36m1\u001b[0m\u001b[1;33m)\u001b[0m\u001b[1;33m\u001b[0m\u001b[1;33m\u001b[0m\u001b[0m\n\u001b[0m",
      "\u001b[1;32m~\\.conda\\envs\\JupyterEnv\\lib\\site-packages\\pandas\\core\\frame.py\u001b[0m in \u001b[0;36mapply\u001b[1;34m(self, func, axis, broadcast, raw, reduce, result_type, args, **kwds)\u001b[0m\n\u001b[0;32m   6926\u001b[0m             \u001b[0mkwds\u001b[0m\u001b[1;33m=\u001b[0m\u001b[0mkwds\u001b[0m\u001b[1;33m,\u001b[0m\u001b[1;33m\u001b[0m\u001b[1;33m\u001b[0m\u001b[0m\n\u001b[0;32m   6927\u001b[0m         )\n\u001b[1;32m-> 6928\u001b[1;33m         \u001b[1;32mreturn\u001b[0m \u001b[0mop\u001b[0m\u001b[1;33m.\u001b[0m\u001b[0mget_result\u001b[0m\u001b[1;33m(\u001b[0m\u001b[1;33m)\u001b[0m\u001b[1;33m\u001b[0m\u001b[1;33m\u001b[0m\u001b[0m\n\u001b[0m\u001b[0;32m   6929\u001b[0m \u001b[1;33m\u001b[0m\u001b[0m\n\u001b[0;32m   6930\u001b[0m     \u001b[1;32mdef\u001b[0m \u001b[0mapplymap\u001b[0m\u001b[1;33m(\u001b[0m\u001b[0mself\u001b[0m\u001b[1;33m,\u001b[0m \u001b[0mfunc\u001b[0m\u001b[1;33m)\u001b[0m\u001b[1;33m:\u001b[0m\u001b[1;33m\u001b[0m\u001b[1;33m\u001b[0m\u001b[0m\n",
      "\u001b[1;32m~\\.conda\\envs\\JupyterEnv\\lib\\site-packages\\pandas\\core\\apply.py\u001b[0m in \u001b[0;36mget_result\u001b[1;34m(self)\u001b[0m\n\u001b[0;32m    184\u001b[0m             \u001b[1;32mreturn\u001b[0m \u001b[0mself\u001b[0m\u001b[1;33m.\u001b[0m\u001b[0mapply_raw\u001b[0m\u001b[1;33m(\u001b[0m\u001b[1;33m)\u001b[0m\u001b[1;33m\u001b[0m\u001b[1;33m\u001b[0m\u001b[0m\n\u001b[0;32m    185\u001b[0m \u001b[1;33m\u001b[0m\u001b[0m\n\u001b[1;32m--> 186\u001b[1;33m         \u001b[1;32mreturn\u001b[0m \u001b[0mself\u001b[0m\u001b[1;33m.\u001b[0m\u001b[0mapply_standard\u001b[0m\u001b[1;33m(\u001b[0m\u001b[1;33m)\u001b[0m\u001b[1;33m\u001b[0m\u001b[1;33m\u001b[0m\u001b[0m\n\u001b[0m\u001b[0;32m    187\u001b[0m \u001b[1;33m\u001b[0m\u001b[0m\n\u001b[0;32m    188\u001b[0m     \u001b[1;32mdef\u001b[0m \u001b[0mapply_empty_result\u001b[0m\u001b[1;33m(\u001b[0m\u001b[0mself\u001b[0m\u001b[1;33m)\u001b[0m\u001b[1;33m:\u001b[0m\u001b[1;33m\u001b[0m\u001b[1;33m\u001b[0m\u001b[0m\n",
      "\u001b[1;32m~\\.conda\\envs\\JupyterEnv\\lib\\site-packages\\pandas\\core\\apply.py\u001b[0m in \u001b[0;36mapply_standard\u001b[1;34m(self)\u001b[0m\n\u001b[0;32m    290\u001b[0m \u001b[1;33m\u001b[0m\u001b[0m\n\u001b[0;32m    291\u001b[0m         \u001b[1;31m# compute the result using the series generator\u001b[0m\u001b[1;33m\u001b[0m\u001b[1;33m\u001b[0m\u001b[1;33m\u001b[0m\u001b[0m\n\u001b[1;32m--> 292\u001b[1;33m         \u001b[0mself\u001b[0m\u001b[1;33m.\u001b[0m\u001b[0mapply_series_generator\u001b[0m\u001b[1;33m(\u001b[0m\u001b[1;33m)\u001b[0m\u001b[1;33m\u001b[0m\u001b[1;33m\u001b[0m\u001b[0m\n\u001b[0m\u001b[0;32m    293\u001b[0m \u001b[1;33m\u001b[0m\u001b[0m\n\u001b[0;32m    294\u001b[0m         \u001b[1;31m# wrap results\u001b[0m\u001b[1;33m\u001b[0m\u001b[1;33m\u001b[0m\u001b[1;33m\u001b[0m\u001b[0m\n",
      "\u001b[1;32m~\\.conda\\envs\\JupyterEnv\\lib\\site-packages\\pandas\\core\\apply.py\u001b[0m in \u001b[0;36mapply_series_generator\u001b[1;34m(self)\u001b[0m\n\u001b[0;32m    319\u001b[0m             \u001b[1;32mtry\u001b[0m\u001b[1;33m:\u001b[0m\u001b[1;33m\u001b[0m\u001b[1;33m\u001b[0m\u001b[0m\n\u001b[0;32m    320\u001b[0m                 \u001b[1;32mfor\u001b[0m \u001b[0mi\u001b[0m\u001b[1;33m,\u001b[0m \u001b[0mv\u001b[0m \u001b[1;32min\u001b[0m \u001b[0menumerate\u001b[0m\u001b[1;33m(\u001b[0m\u001b[0mseries_gen\u001b[0m\u001b[1;33m)\u001b[0m\u001b[1;33m:\u001b[0m\u001b[1;33m\u001b[0m\u001b[1;33m\u001b[0m\u001b[0m\n\u001b[1;32m--> 321\u001b[1;33m                     \u001b[0mresults\u001b[0m\u001b[1;33m[\u001b[0m\u001b[0mi\u001b[0m\u001b[1;33m]\u001b[0m \u001b[1;33m=\u001b[0m \u001b[0mself\u001b[0m\u001b[1;33m.\u001b[0m\u001b[0mf\u001b[0m\u001b[1;33m(\u001b[0m\u001b[0mv\u001b[0m\u001b[1;33m)\u001b[0m\u001b[1;33m\u001b[0m\u001b[1;33m\u001b[0m\u001b[0m\n\u001b[0m\u001b[0;32m    322\u001b[0m                     \u001b[0mkeys\u001b[0m\u001b[1;33m.\u001b[0m\u001b[0mappend\u001b[0m\u001b[1;33m(\u001b[0m\u001b[0mv\u001b[0m\u001b[1;33m.\u001b[0m\u001b[0mname\u001b[0m\u001b[1;33m)\u001b[0m\u001b[1;33m\u001b[0m\u001b[1;33m\u001b[0m\u001b[0m\n\u001b[0;32m    323\u001b[0m             \u001b[1;32mexcept\u001b[0m \u001b[0mException\u001b[0m \u001b[1;32mas\u001b[0m \u001b[0me\u001b[0m\u001b[1;33m:\u001b[0m\u001b[1;33m\u001b[0m\u001b[1;33m\u001b[0m\u001b[0m\n",
      "\u001b[1;32m<ipython-input-24-4bf617d62028>\u001b[0m in \u001b[0;36mduration\u001b[1;34m(record)\u001b[0m\n\u001b[0;32m      9\u001b[0m         \u001b[0mlabel\u001b[0m \u001b[1;33m=\u001b[0m \u001b[0mnp\u001b[0m\u001b[1;33m.\u001b[0m\u001b[0mrandom\u001b[0m\u001b[1;33m.\u001b[0m\u001b[0mchoice\u001b[0m\u001b[1;33m(\u001b[0m\u001b[1;36m30\u001b[0m\u001b[1;33m,\u001b[0m\u001b[1;36m0\u001b[0m\u001b[1;33m,\u001b[0m\u001b[1;36m1\u001b[0m\u001b[1;33m)\u001b[0m\u001b[1;33m[\u001b[0m\u001b[1;36m0\u001b[0m\u001b[1;33m]\u001b[0m\u001b[1;33m\u001b[0m\u001b[1;33m\u001b[0m\u001b[0m\n\u001b[0;32m     10\u001b[0m     \u001b[1;32melif\u001b[0m \u001b[0mrecord\u001b[0m\u001b[1;33m[\u001b[0m\u001b[1;34m'task'\u001b[0m\u001b[1;33m]\u001b[0m\u001b[1;33m==\u001b[0m\u001b[1;36m5\u001b[0m\u001b[1;33m:\u001b[0m\u001b[1;33m\u001b[0m\u001b[1;33m\u001b[0m\u001b[0m\n\u001b[1;32m---> 11\u001b[1;33m         \u001b[0mlabel\u001b[0m \u001b[1;33m=\u001b[0m \u001b[0mnp\u001b[0m\u001b[1;33m.\u001b[0m\u001b[0mrandom\u001b[0m\u001b[1;33m.\u001b[0m\u001b[0mchoice\u001b[0m\u001b[1;33m(\u001b[0m\u001b[1;36m100\u001b[0m\u001b[1;33m,\u001b[0m\u001b[1;36m0\u001b[0m\u001b[1;33m,\u001b[0m\u001b[1;36m1\u001b[0m\u001b[1;33m)\u001b[0m\u001b[1;33m[\u001b[0m\u001b[1;36m0\u001b[0m\u001b[1;33m]\u001b[0m\u001b[1;33m\u001b[0m\u001b[1;33m\u001b[0m\u001b[0m\n\u001b[0m\u001b[0;32m     12\u001b[0m     \u001b[1;32melse\u001b[0m\u001b[1;33m:\u001b[0m\u001b[1;33m\u001b[0m\u001b[1;33m\u001b[0m\u001b[0m\n\u001b[0;32m     13\u001b[0m         \u001b[0mlabel\u001b[0m \u001b[1;33m=\u001b[0m \u001b[0mnp\u001b[0m\u001b[1;33m.\u001b[0m\u001b[0mrandom\u001b[0m\u001b[1;33m.\u001b[0m\u001b[0mchoice\u001b[0m\u001b[1;33m(\u001b[0m\u001b[1;36m100\u001b[0m\u001b[1;33m,\u001b[0m\u001b[1;36m3\u001b[0m\u001b[1;33m,\u001b[0m\u001b[1;36m1\u001b[0m\u001b[1;33m)\u001b[0m\u001b[1;33m[\u001b[0m\u001b[1;36m0\u001b[0m\u001b[1;33m]\u001b[0m\u001b[1;33m\u001b[0m\u001b[1;33m\u001b[0m\u001b[0m\n",
      "\u001b[1;31mIndexError\u001b[0m: ('index 0 is out of bounds for axis 0 with size 0', 'occurred at index 0')"
     ]
    }
   ],
   "source": [
    "df['duration']=df.apply(duration,axis=1)"
   ]
  },
  {
   "cell_type": "code",
   "execution_count": null,
   "metadata": {
    "ExecuteTime": {
     "end_time": "2020-01-22T17:43:07.342403Z",
     "start_time": "2020-01-22T17:43:06.142Z"
    }
   },
   "outputs": [],
   "source": [
    "df"
   ]
  },
  {
   "cell_type": "code",
   "execution_count": null,
   "metadata": {
    "ExecuteTime": {
     "end_time": "2020-01-22T17:43:07.343412Z",
     "start_time": "2020-01-22T17:43:06.171Z"
    }
   },
   "outputs": [],
   "source": [
    "plt.figure(figsize= (8,10))\n",
    "sns.heatmap(df.corr(), annot=True)"
   ]
  }
 ],
 "metadata": {
  "kernelspec": {
   "display_name": "Python 3",
   "language": "python",
   "name": "python3"
  },
  "language_info": {
   "codemirror_mode": {
    "name": "ipython",
    "version": 3
   },
   "file_extension": ".py",
   "mimetype": "text/x-python",
   "name": "python",
   "nbconvert_exporter": "python",
   "pygments_lexer": "ipython3",
   "version": "3.6.9"
  },
  "latex_envs": {
   "LaTeX_envs_menu_present": true,
   "autoclose": false,
   "autocomplete": true,
   "bibliofile": "biblio.bib",
   "cite_by": "apalike",
   "current_citInitial": 1,
   "eqLabelWithNumbers": true,
   "eqNumInitial": 1,
   "hotkeys": {
    "equation": "Ctrl-E",
    "itemize": "Ctrl-I"
   },
   "labels_anchors": false,
   "latex_user_defs": false,
   "report_style_numbering": false,
   "user_envs_cfg": false
  },
  "nbTranslate": {
   "displayLangs": [
    "*"
   ],
   "hotkey": "alt-t",
   "langInMainMenu": true,
   "sourceLang": "en",
   "targetLang": "fr",
   "useGoogleTranslate": true
  },
  "toc": {
   "base_numbering": 1,
   "nav_menu": {},
   "number_sections": true,
   "sideBar": true,
   "skip_h1_title": false,
   "title_cell": "Table of Contents",
   "title_sidebar": "Contents",
   "toc_cell": false,
   "toc_position": {},
   "toc_section_display": true,
   "toc_window_display": false
  }
 },
 "nbformat": 4,
 "nbformat_minor": 2
}
