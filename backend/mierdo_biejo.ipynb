{
 "cells": [
  {
   "cell_type": "code",
   "execution_count": 2,
   "metadata": {
    "ExecuteTime": {
     "end_time": "2020-01-22T13:30:49.800108Z",
     "start_time": "2020-01-22T13:30:49.203719Z"
    }
   },
   "outputs": [],
   "source": [
    "import numpy as np\n",
    "import pandas as pd"
   ]
  },
  {
   "cell_type": "code",
   "execution_count": 27,
   "metadata": {
    "ExecuteTime": {
     "end_time": "2020-01-22T15:04:57.383630Z",
     "start_time": "2020-01-22T15:04:57.379635Z"
    }
   },
   "outputs": [],
   "source": [
    "age = np.random.normal(80,7,1000)\n",
    "age= age.astype(int)\n",
    "# age"
   ]
  },
  {
   "cell_type": "code",
   "execution_count": 28,
   "metadata": {
    "ExecuteTime": {
     "end_time": "2020-01-22T15:05:01.791073Z",
     "start_time": "2020-01-22T15:05:01.779046Z"
    }
   },
   "outputs": [],
   "source": [
    "df=pd.DataFrame({\"age\":age})"
   ]
  },
  {
   "cell_type": "code",
   "execution_count": 31,
   "metadata": {
    "ExecuteTime": {
     "end_time": "2020-01-22T15:05:27.025019Z",
     "start_time": "2020-01-22T15:05:27.023016Z"
    }
   },
   "outputs": [],
   "source": [
    "# df['age'].value_counts()"
   ]
  },
  {
   "cell_type": "markdown",
   "metadata": {},
   "source": [
    "About 3% of people between the ages of 65–74 have dementia, 19% between 75 and 84, and nearly half of those over 85 years of age.[22] In 2013 dementia resulted in about 1.7 million deaths, up from 0.8 million in 1990.[23] As more people are living longer, dementia is becoming more common.[21]"
   ]
  },
  {
   "cell_type": "code",
   "execution_count": null,
   "metadata": {},
   "outputs": [],
   "source": [
    "# disease_id = [np.random.choice(range(10), p=[0.01,0.1,0.05,0.19,0.3,0.1,0.1,0.05,0.08,0.02]) for i in range(1000)]\n",
    "# disease_id"
   ]
  },
  {
   "cell_type": "code",
   "execution_count": 41,
   "metadata": {
    "ExecuteTime": {
     "end_time": "2020-01-22T15:17:31.945751Z",
     "start_time": "2020-01-22T15:17:31.938757Z"
    }
   },
   "outputs": [],
   "source": [
    "def dementia(record):\n",
    "    if record['age']<74:\n",
    "        label = np.random.choice([1,0], p=[0.03,0.97])\n",
    "    elif 84>record['age']>=75:\n",
    "        label = np.random.choice([1,0], p=[0.19,0.81])\n",
    "    else:\n",
    "        label = np.random.choice([1,0], p=[0.5,0.5])\n",
    "    return label"
   ]
  },
  {
   "cell_type": "code",
   "execution_count": 42,
   "metadata": {
    "ExecuteTime": {
     "end_time": "2020-01-22T15:17:33.009842Z",
     "start_time": "2020-01-22T15:17:32.954809Z"
    }
   },
   "outputs": [],
   "source": [
    "df['has_dementia']=df.apply(dementia,axis=1)"
   ]
  },
  {
   "cell_type": "code",
   "execution_count": 43,
   "metadata": {
    "ExecuteTime": {
     "end_time": "2020-01-22T15:17:34.392258Z",
     "start_time": "2020-01-22T15:17:34.364256Z"
    }
   },
   "outputs": [],
   "source": [
    "gender = [np.random.choice([0,1], p=[0.5,0.5]) for i in range(1000)]\n",
    "df['gender']=gender"
   ]
  },
  {
   "cell_type": "code",
   "execution_count": 44,
   "metadata": {
    "ExecuteTime": {
     "end_time": "2020-01-22T15:17:40.669527Z",
     "start_time": "2020-01-22T15:17:40.656539Z"
    }
   },
   "outputs": [
    {
     "data": {
      "text/html": [
       "<div>\n",
       "<style scoped>\n",
       "    .dataframe tbody tr th:only-of-type {\n",
       "        vertical-align: middle;\n",
       "    }\n",
       "\n",
       "    .dataframe tbody tr th {\n",
       "        vertical-align: top;\n",
       "    }\n",
       "\n",
       "    .dataframe thead th {\n",
       "        text-align: right;\n",
       "    }\n",
       "</style>\n",
       "<table border=\"1\" class=\"dataframe\">\n",
       "  <thead>\n",
       "    <tr style=\"text-align: right;\">\n",
       "      <th></th>\n",
       "      <th>age</th>\n",
       "      <th>has_dementia</th>\n",
       "      <th>gender</th>\n",
       "    </tr>\n",
       "  </thead>\n",
       "  <tbody>\n",
       "    <tr>\n",
       "      <th>0</th>\n",
       "      <td>74</td>\n",
       "      <td>1</td>\n",
       "      <td>0</td>\n",
       "    </tr>\n",
       "    <tr>\n",
       "      <th>1</th>\n",
       "      <td>72</td>\n",
       "      <td>0</td>\n",
       "      <td>1</td>\n",
       "    </tr>\n",
       "    <tr>\n",
       "      <th>2</th>\n",
       "      <td>72</td>\n",
       "      <td>0</td>\n",
       "      <td>0</td>\n",
       "    </tr>\n",
       "    <tr>\n",
       "      <th>3</th>\n",
       "      <td>90</td>\n",
       "      <td>1</td>\n",
       "      <td>0</td>\n",
       "    </tr>\n",
       "    <tr>\n",
       "      <th>4</th>\n",
       "      <td>79</td>\n",
       "      <td>0</td>\n",
       "      <td>1</td>\n",
       "    </tr>\n",
       "    <tr>\n",
       "      <th>...</th>\n",
       "      <td>...</td>\n",
       "      <td>...</td>\n",
       "      <td>...</td>\n",
       "    </tr>\n",
       "    <tr>\n",
       "      <th>995</th>\n",
       "      <td>82</td>\n",
       "      <td>0</td>\n",
       "      <td>0</td>\n",
       "    </tr>\n",
       "    <tr>\n",
       "      <th>996</th>\n",
       "      <td>71</td>\n",
       "      <td>0</td>\n",
       "      <td>0</td>\n",
       "    </tr>\n",
       "    <tr>\n",
       "      <th>997</th>\n",
       "      <td>77</td>\n",
       "      <td>0</td>\n",
       "      <td>1</td>\n",
       "    </tr>\n",
       "    <tr>\n",
       "      <th>998</th>\n",
       "      <td>80</td>\n",
       "      <td>0</td>\n",
       "      <td>1</td>\n",
       "    </tr>\n",
       "    <tr>\n",
       "      <th>999</th>\n",
       "      <td>84</td>\n",
       "      <td>1</td>\n",
       "      <td>1</td>\n",
       "    </tr>\n",
       "  </tbody>\n",
       "</table>\n",
       "<p>1000 rows × 3 columns</p>\n",
       "</div>"
      ],
      "text/plain": [
       "     age  has_dementia  gender\n",
       "0     74             1       0\n",
       "1     72             0       1\n",
       "2     72             0       0\n",
       "3     90             1       0\n",
       "4     79             0       1\n",
       "..   ...           ...     ...\n",
       "995   82             0       0\n",
       "996   71             0       0\n",
       "997   77             0       1\n",
       "998   80             0       1\n",
       "999   84             1       1\n",
       "\n",
       "[1000 rows x 3 columns]"
      ]
     },
     "execution_count": 44,
     "metadata": {},
     "output_type": "execute_result"
    }
   ],
   "source": [
    "df"
   ]
  },
  {
   "cell_type": "code",
   "execution_count": 48,
   "metadata": {
    "ExecuteTime": {
     "end_time": "2020-01-22T15:23:23.628234Z",
     "start_time": "2020-01-22T15:23:23.615246Z"
    }
   },
   "outputs": [],
   "source": [
    "def mobility(record):\n",
    "    if record['age']<70 and record['gender']==1:\n",
    "        label = np.random.choice([1,0], p=[0.125,0.875])\n",
    "    elif record['age']<70 and record['gender']==0:\n",
    "        label = np.random.choice([1,0], p=[0.2,0.8])\n",
    "    elif 80>record['age']>=70 and record['gender']==1:\n",
    "        label = np.random.choice([1,0], p=[0.25,0.75])\n",
    "    elif 80>record['age']>=70 and record['gender']==0:\n",
    "        label = np.random.choice([1,0], p=[0.38,0.62])\n",
    "    elif record['age']>=80 and record['gender']==1:\n",
    "        label = np.random.choice([1,0], p=[0.52,0.48])\n",
    "    else:\n",
    "        label = np.random.choice([1,0], p=[0.7,0.3])\n",
    "    return label"
   ]
  },
  {
   "cell_type": "code",
   "execution_count": 49,
   "metadata": {
    "ExecuteTime": {
     "end_time": "2020-01-22T15:23:24.145872Z",
     "start_time": "2020-01-22T15:23:24.049153Z"
    }
   },
   "outputs": [],
   "source": [
    "df['has_mobility']=df.apply(mobility,axis=1)"
   ]
  },
  {
   "cell_type": "code",
   "execution_count": 65,
   "metadata": {
    "ExecuteTime": {
     "end_time": "2020-01-22T15:31:36.374919Z",
     "start_time": "2020-01-22T15:31:36.348904Z"
    }
   },
   "outputs": [],
   "source": [
    "df['has_family']=[np.random.choice([1,0], p=[0.50,0.50]) for i in range(1000)]"
   ]
  },
  {
   "cell_type": "code",
   "execution_count": 66,
   "metadata": {
    "ExecuteTime": {
     "end_time": "2020-01-22T15:31:37.496476Z",
     "start_time": "2020-01-22T15:31:37.485483Z"
    }
   },
   "outputs": [
    {
     "data": {
      "text/plain": [
       "0    526\n",
       "1    474\n",
       "Name: has_family, dtype: int64"
      ]
     },
     "execution_count": 66,
     "metadata": {},
     "output_type": "execute_result"
    }
   ],
   "source": [
    "df['has_family'].value_counts()"
   ]
  },
  {
   "cell_type": "code",
   "execution_count": 68,
   "metadata": {
    "ExecuteTime": {
     "end_time": "2020-01-22T15:39:30.377316Z",
     "start_time": "2020-01-22T15:39:30.343213Z"
    }
   },
   "outputs": [],
   "source": [
    "df['city']=[np.random.choice(['Tel-Aviv','Jerusalem','Haifa','Rishon-Letzion','Beer Sheva','Eshdod','Petach-Tikva','Natania'], p=[0.19,0.20,0.16,0.1,0.08,0.08,0.1,0.09]) for i in range(1000)]"
   ]
  },
  {
   "cell_type": "code",
   "execution_count": 70,
   "metadata": {
    "ExecuteTime": {
     "end_time": "2020-01-22T15:45:37.372934Z",
     "start_time": "2020-01-22T15:45:37.364934Z"
    }
   },
   "outputs": [],
   "source": [
    "def has_spouse(record):\n",
    "    if record['age']<70 and record['gender']==1:\n",
    "        label = np.random.choice([1,0], p=[0.9,0.1])\n",
    "    elif record['age']<70 and record['gender']==0:\n",
    "        label = np.random.choice([1,0], p=[0.8,0.2])\n",
    "    elif 80>record['age']>=70 and record['gender']==1:\n",
    "        label = np.random.choice([1,0], p=[0.8,0.2])\n",
    "    elif 80>record['age']>=70 and record['gender']==0:\n",
    "        label = np.random.choice([1,0], p=[0.7,0.3])\n",
    "    elif record['age']>=80 and record['gender']==1:\n",
    "        label = np.random.choice([1,0], p=[0.65,0.35])\n",
    "    else:\n",
    "        label = np.random.choice([1,0], p=[0.5,0.5])\n",
    "    return label"
   ]
  },
  {
   "cell_type": "code",
   "execution_count": 72,
   "metadata": {
    "ExecuteTime": {
     "end_time": "2020-01-22T15:48:02.099644Z",
     "start_time": "2020-01-22T15:48:02.001096Z"
    }
   },
   "outputs": [],
   "source": [
    "df['has_spouse']=df.apply(has_spouse,axis=1)"
   ]
  },
  {
   "cell_type": "code",
   "execution_count": 79,
   "metadata": {
    "ExecuteTime": {
     "end_time": "2020-01-22T16:03:23.022085Z",
     "start_time": "2020-01-22T16:03:23.010086Z"
    }
   },
   "outputs": [],
   "source": [
    "def using_mobility_device(record):\n",
    "    if record['age']<70:\n",
    "        label = np.random.choice([1,0], p=[0.08,0.92])\n",
    "    elif 74>record['age']>=70 and record['gender']==0:\n",
    "        label = np.random.choice([1,0], p=[0.09,0.91])\n",
    "    elif 74>record['age']>=70 and record['gender']==1:\n",
    "        label = np.random.choice([1,0], p=[0.08,0.92])\n",
    "    elif 84>record['age']>=75 and record['gender']==0:\n",
    "        label = np.random.choice([1,0], p=[0.19,0.81])  \n",
    "    elif 84>record['age']>=75 and record['gender']==1:\n",
    "        label = np.random.choice([1,0], p=[0.15,0.85]) \n",
    "    elif record['age']>=85 and record['gender']==0:\n",
    "        label = np.random.choice([1,0], p=[0.45,0.55]) \n",
    "    else:\n",
    "        label = np.random.choice([1,0], p=[0.3,0.7]) \n",
    "    return label"
   ]
  },
  {
   "cell_type": "code",
   "execution_count": 80,
   "metadata": {
    "ExecuteTime": {
     "end_time": "2020-01-22T16:03:23.723435Z",
     "start_time": "2020-01-22T16:03:23.633403Z"
    }
   },
   "outputs": [],
   "source": [
    "df['has_mobility_device']=df.apply(using_mobility_device,axis=1)"
   ]
  },
  {
   "cell_type": "code",
   "execution_count": 81,
   "metadata": {
    "ExecuteTime": {
     "end_time": "2020-01-22T16:03:27.009563Z",
     "start_time": "2020-01-22T16:03:26.992580Z"
    }
   },
   "outputs": [
    {
     "data": {
      "text/html": [
       "<div>\n",
       "<style scoped>\n",
       "    .dataframe tbody tr th:only-of-type {\n",
       "        vertical-align: middle;\n",
       "    }\n",
       "\n",
       "    .dataframe tbody tr th {\n",
       "        vertical-align: top;\n",
       "    }\n",
       "\n",
       "    .dataframe thead th {\n",
       "        text-align: right;\n",
       "    }\n",
       "</style>\n",
       "<table border=\"1\" class=\"dataframe\">\n",
       "  <thead>\n",
       "    <tr style=\"text-align: right;\">\n",
       "      <th></th>\n",
       "      <th>age</th>\n",
       "      <th>has_dementia</th>\n",
       "      <th>gender</th>\n",
       "      <th>has_mobility</th>\n",
       "      <th>has_family</th>\n",
       "      <th>city</th>\n",
       "      <th>has_spouse</th>\n",
       "      <th>has_mobility_device</th>\n",
       "    </tr>\n",
       "  </thead>\n",
       "  <tbody>\n",
       "    <tr>\n",
       "      <th>0</th>\n",
       "      <td>74</td>\n",
       "      <td>1</td>\n",
       "      <td>0</td>\n",
       "      <td>1</td>\n",
       "      <td>0</td>\n",
       "      <td>Rishon-Letzion</td>\n",
       "      <td>1</td>\n",
       "      <td>0</td>\n",
       "    </tr>\n",
       "    <tr>\n",
       "      <th>1</th>\n",
       "      <td>72</td>\n",
       "      <td>0</td>\n",
       "      <td>1</td>\n",
       "      <td>0</td>\n",
       "      <td>1</td>\n",
       "      <td>Natania</td>\n",
       "      <td>1</td>\n",
       "      <td>0</td>\n",
       "    </tr>\n",
       "    <tr>\n",
       "      <th>2</th>\n",
       "      <td>72</td>\n",
       "      <td>0</td>\n",
       "      <td>0</td>\n",
       "      <td>0</td>\n",
       "      <td>0</td>\n",
       "      <td>Tel-Aviv</td>\n",
       "      <td>0</td>\n",
       "      <td>0</td>\n",
       "    </tr>\n",
       "    <tr>\n",
       "      <th>3</th>\n",
       "      <td>90</td>\n",
       "      <td>1</td>\n",
       "      <td>0</td>\n",
       "      <td>0</td>\n",
       "      <td>0</td>\n",
       "      <td>Haifa</td>\n",
       "      <td>1</td>\n",
       "      <td>0</td>\n",
       "    </tr>\n",
       "    <tr>\n",
       "      <th>4</th>\n",
       "      <td>79</td>\n",
       "      <td>0</td>\n",
       "      <td>1</td>\n",
       "      <td>0</td>\n",
       "      <td>1</td>\n",
       "      <td>Haifa</td>\n",
       "      <td>1</td>\n",
       "      <td>0</td>\n",
       "    </tr>\n",
       "    <tr>\n",
       "      <th>...</th>\n",
       "      <td>...</td>\n",
       "      <td>...</td>\n",
       "      <td>...</td>\n",
       "      <td>...</td>\n",
       "      <td>...</td>\n",
       "      <td>...</td>\n",
       "      <td>...</td>\n",
       "      <td>...</td>\n",
       "    </tr>\n",
       "    <tr>\n",
       "      <th>995</th>\n",
       "      <td>82</td>\n",
       "      <td>0</td>\n",
       "      <td>0</td>\n",
       "      <td>1</td>\n",
       "      <td>1</td>\n",
       "      <td>Rishon-Letzion</td>\n",
       "      <td>1</td>\n",
       "      <td>1</td>\n",
       "    </tr>\n",
       "    <tr>\n",
       "      <th>996</th>\n",
       "      <td>71</td>\n",
       "      <td>0</td>\n",
       "      <td>0</td>\n",
       "      <td>0</td>\n",
       "      <td>0</td>\n",
       "      <td>Tel-Aviv</td>\n",
       "      <td>1</td>\n",
       "      <td>0</td>\n",
       "    </tr>\n",
       "    <tr>\n",
       "      <th>997</th>\n",
       "      <td>77</td>\n",
       "      <td>0</td>\n",
       "      <td>1</td>\n",
       "      <td>0</td>\n",
       "      <td>1</td>\n",
       "      <td>Natania</td>\n",
       "      <td>1</td>\n",
       "      <td>0</td>\n",
       "    </tr>\n",
       "    <tr>\n",
       "      <th>998</th>\n",
       "      <td>80</td>\n",
       "      <td>0</td>\n",
       "      <td>1</td>\n",
       "      <td>0</td>\n",
       "      <td>1</td>\n",
       "      <td>Rishon-Letzion</td>\n",
       "      <td>1</td>\n",
       "      <td>1</td>\n",
       "    </tr>\n",
       "    <tr>\n",
       "      <th>999</th>\n",
       "      <td>84</td>\n",
       "      <td>1</td>\n",
       "      <td>1</td>\n",
       "      <td>1</td>\n",
       "      <td>0</td>\n",
       "      <td>Petach-Tikva</td>\n",
       "      <td>1</td>\n",
       "      <td>0</td>\n",
       "    </tr>\n",
       "  </tbody>\n",
       "</table>\n",
       "<p>1000 rows × 8 columns</p>\n",
       "</div>"
      ],
      "text/plain": [
       "     age  has_dementia  gender  has_mobility  has_family            city  \\\n",
       "0     74             1       0             1           0  Rishon-Letzion   \n",
       "1     72             0       1             0           1         Natania   \n",
       "2     72             0       0             0           0        Tel-Aviv   \n",
       "3     90             1       0             0           0           Haifa   \n",
       "4     79             0       1             0           1           Haifa   \n",
       "..   ...           ...     ...           ...         ...             ...   \n",
       "995   82             0       0             1           1  Rishon-Letzion   \n",
       "996   71             0       0             0           0        Tel-Aviv   \n",
       "997   77             0       1             0           1         Natania   \n",
       "998   80             0       1             0           1  Rishon-Letzion   \n",
       "999   84             1       1             1           0    Petach-Tikva   \n",
       "\n",
       "     has_spouse  has_mobility_device  \n",
       "0             1                    0  \n",
       "1             1                    0  \n",
       "2             0                    0  \n",
       "3             1                    0  \n",
       "4             1                    0  \n",
       "..          ...                  ...  \n",
       "995           1                    1  \n",
       "996           1                    0  \n",
       "997           1                    0  \n",
       "998           1                    1  \n",
       "999           1                    0  \n",
       "\n",
       "[1000 rows x 8 columns]"
      ]
     },
     "execution_count": 81,
     "metadata": {},
     "output_type": "execute_result"
    }
   ],
   "source": [
    "df"
   ]
  },
  {
   "cell_type": "code",
   "execution_count": null,
   "metadata": {},
   "outputs": [],
   "source": []
  }
 ],
 "metadata": {
  "kernelspec": {
   "display_name": "Python 3",
   "language": "python",
   "name": "python3"
  },
  "language_info": {
   "codemirror_mode": {
    "name": "ipython",
    "version": 3
   },
   "file_extension": ".py",
   "mimetype": "text/x-python",
   "name": "python",
   "nbconvert_exporter": "python",
   "pygments_lexer": "ipython3",
   "version": "3.7.4"
  },
  "toc": {
   "base_numbering": 1.0,
   "nav_menu": {},
   "number_sections": true,
   "sideBar": true,
   "skip_h1_title": false,
   "title_cell": "Table of Contents",
   "title_sidebar": "Contents",
   "toc_cell": false,
   "toc_position": {},
   "toc_section_display": true,
   "toc_window_display": false
  }
 },
 "nbformat": 4,
 "nbformat_minor": 2
}
